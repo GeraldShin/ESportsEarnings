{
 "cells": [
  {
   "cell_type": "markdown",
   "metadata": {},
   "source": [
    "## PSEUDOCODE STRUCTURE\n",
    "\n",
    "1. API Call #1 to get all tournament IDs (or at least the top like 1000)\n",
    "2. API Call #2 to get all the data for each tournament ID we scraped in step 1\n",
    "3. Line graph to show year by year total earnings potential in these tournaments (maybe by month/quarter if available)\n",
    "4. Animate Line graph\n",
    "5. LDA to generate fake tournament names for fun"
   ]
  },
  {
   "cell_type": "code",
   "execution_count": 2,
   "metadata": {},
   "outputs": [],
   "source": [
    "import requests\n",
    "import pandas as pd\n",
    "import json\n",
    "import time"
   ]
  },
  {
   "cell_type": "code",
   "execution_count": 3,
   "metadata": {},
   "outputs": [],
   "source": [
    "import urllib3\n",
    "urllib3.disable_warnings(urllib3.exceptions.InsecureRequestWarning)"
   ]
  },
  {
   "cell_type": "code",
   "execution_count": null,
   "metadata": {},
   "outputs": [],
   "source": [
    "esportsarr = []\n",
    "tourniterator = 0\n",
    "\n",
    "for n in range(50):\n",
    "    data = requests.get(f\"https://api.esportsearnings.com/v0/LookupTournamentById?apikey=6fbda7c3f7cb1d84286157bdb8f3defc9433ac28eae09a95282cd2808dea2ec6&tournamentid={tourniterator}\"\n",
    "                      , verify=False)\n",
    "    esportsarr.append(data.text)\n",
    "    tourniterator+=1 \n",
    "    with open('data.json', 'a') as outfile:\n",
    "        json.dump(esportsarr, outfile)\n",
    "        time.sleep(1) #api calls must be 1 second apart"
   ]
  },
  {
   "cell_type": "code",
   "execution_count": 4,
   "metadata": {},
   "outputs": [],
   "source": [
    "#this cell will call the API and gather all of the direct tournament data in a JSON file\n",
    "tidjson = []\n",
    "offsetiter = 0\n",
    "\n",
    "for n in range (2):\n",
    "    tids = requests.get(f\"http://api.esportsearnings.com/v0/LookupRecentTournaments?apikey=6fbda7c3f7cb1d84286157bdb8f3defc9433ac28eae09a95282cd2808dea2ec6&offset={offsetiter}\"\n",
    "                        , verify = False)\n",
    "    tidjson.append(tids.text)\n",
    "    offsetiter+=100\n",
    "    with open('tids.json', 'a') as outfile:\n",
    "        json.dump(tidjson, outfile)\n",
    "        time.sleep(1)\n"
   ]
  },
  {
   "cell_type": "code",
   "execution_count": null,
   "metadata": {},
   "outputs": [],
   "source": [
    "#this cell should take the JSON as an input \n",
    "df = pd.read_json('filepathtojson')\n",
    "\n",
    "#with open('temp.txt') as fh:\n",
    "#    df = pd.DataFrame(json.load(fh)['Default'])  this might have to be the way you load in the json file..."
   ]
  },
  {
   "cell_type": "code",
   "execution_count": null,
   "metadata": {},
   "outputs": [],
   "source": [
    "#drop all duplicate IDs from the json file"
   ]
  },
  {
   "cell_type": "code",
   "execution_count": null,
   "metadata": {},
   "outputs": [],
   "source": [
    "#this cell should iterate over the list of tourney keys and compile them in a dataframe (might have to be saved if too large)\n",
    "datastore = []\n",
    "\n",
    "for key in df['keys']:\n",
    "    data = requests.get(f\"https://api.esportsearnings.com/v0/LookupTournamentById? \\\n",
    "    apikey=6fbda7c3f7cb1d84286157bdb8f3defc9433ac28eae09a95282cd2808dea2ec6&tournamentid={key}\")\n",
    "    datastore.append(data.text)\n",
    "    "
   ]
  },
  {
   "cell_type": "code",
   "execution_count": null,
   "metadata": {},
   "outputs": [],
   "source": [
    "#this cell should visualize the time series of esports earnings\n",
    "import chart_studio.plotly as py\n",
    "import matplotlib as plt\n",
    "import plotly.figure_factory as ff\n",
    "import plotly.graph_objects as go\n",
    "\n",
    "plotly.offline.init_notebook_mode() #this sets plotly to offline mode (aka no cloud comms)"
   ]
  },
  {
   "cell_type": "code",
   "execution_count": null,
   "metadata": {},
   "outputs": [],
   "source": [
    "#maybe create another visualization that shows where the number of tournaments are happening?? \n",
    "#do a separate color'd bar on stacked bar for single vs team play???\n",
    "#wait change this to a map....\n",
    "fig = go.Figure(data = [ \n",
    "    go.Bar(name = 'Solo Tournies', x = datastore['state'], y = datastore['state'].value_counts()) \n",
    "    go.Bar(name = 'Teamplay', x = datastore['state'], y = datastore['state'].value_counts())\n",
    "           ]\n",
    ")\n",
    "           \n",
    "fig.update_layout(barmode='stack')\n",
    "\n",
    "fig.show()"
   ]
  },
  {
   "cell_type": "code",
   "execution_count": null,
   "metadata": {},
   "outputs": [],
   "source": [
    "earnings = go.Scatter( #this call is sorta pseudocode\n",
    "        x = datastore['earnings'].groupby(datastore['Year']),\n",
    "        y = datastore['Year'],\n",
    "        mode='lines',\n",
    "        name='ESports Earnings by Year')\n",
    "    \n",
    "chartdata = go.Data([earnings])\n",
    "\n",
    "plotly.offline.iplot(data, filename = 'basic-line')"
   ]
  },
  {
   "cell_type": "code",
   "execution_count": null,
   "metadata": {},
   "outputs": [],
   "source": [
    "fig = go.Figure() #figure out which one works... one of these is outdated\n",
    "\n",
    "fig.add_trace(go.Scatter(\n",
    "            x = datastore['earnings'].groupby(datastore['Year']),\n",
    "            y = datastore['Year'],\n",
    "            mode='lines', \n",
    "            name='Esports Earnings by Year'))\n",
    "\n",
    "fig.show()"
   ]
  },
  {
   "cell_type": "code",
   "execution_count": null,
   "metadata": {},
   "outputs": [],
   "source": [
    "#this cell should call API for highest earning players (is one of the API modes)\n",
    "bigmoney = []\n",
    "\n",
    "bigmoneydata = requests.get(\"https://api.esportsearnings.com/v0/LookupHighestEarningPlayerByGam?\\\n",
    "    apikey=6fbda7c3f7cb1d84286157bdb8f3defc9433ac28eae09a95282cd2808dea2ec6\")\n",
    "bigmoney.append(bigmoneydata.text)\n",
    "\n"
   ]
  },
  {
   "cell_type": "code",
   "execution_count": null,
   "metadata": {},
   "outputs": [],
   "source": [
    "#this cell should visualize the highest earning players, maybe top 5?\n",
    "figmoney = go.Figure() #figure out which one works... one of these is outdated\n",
    "\n",
    "figmoney.add_trace(go.Bar(\n",
    "            x = datastore['playernameusdearnings'],\n",
    "            y = datastore['usdearnings'],\n",
    "            name='Highest Total Player Earnings'))\n",
    "\n",
    "figmoney.show()"
   ]
  },
  {
   "cell_type": "code",
   "execution_count": null,
   "metadata": {},
   "outputs": [],
   "source": [
    "#this cell for shiggles should use LDA to generate some fake tournament titles"
   ]
  }
 ],
 "metadata": {
  "kernelspec": {
   "display_name": "Python 3",
   "language": "python",
   "name": "python3"
  },
  "language_info": {
   "codemirror_mode": {
    "name": "ipython",
    "version": 3
   },
   "file_extension": ".py",
   "mimetype": "text/x-python",
   "name": "python",
   "nbconvert_exporter": "python",
   "pygments_lexer": "ipython3",
   "version": "3.6.2"
  }
 },
 "nbformat": 4,
 "nbformat_minor": 2
}
