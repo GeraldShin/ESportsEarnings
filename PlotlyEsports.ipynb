{
 "cells": [
  {
   "cell_type": "markdown",
   "metadata": {},
   "source": [
    "## PSEUDOCODE STRUCTURE\n",
    "\n",
    "1. API Call #1 to get all tournament IDs (or at least the top like 1000)\n",
    "2. API Call #2 to get all the data for each tournament ID we scraped in step 1\n",
    "3. Histogram to show year by year total earnings potential in these tournaments (maybe by month/year if available)\n",
    "4. Visualize highest earning games, highest earning players, and highest average games\n",
    "5. LDA to generate fake tournament names for fun"
   ]
  },
  {
   "cell_type": "code",
   "execution_count": 4,
   "metadata": {},
   "outputs": [],
   "source": [
    "import requests\n",
    "import pandas as pd\n",
    "import json\n",
    "import csv\n",
    "import time\n",
    "import datetime as dt"
   ]
  },
  {
   "cell_type": "code",
   "execution_count": 5,
   "metadata": {},
   "outputs": [
    {
     "ename": "ModuleNotFoundError",
     "evalue": "No module named 'plotly'",
     "output_type": "error",
     "traceback": [
      "\u001b[0;31m---------------------------------------------------------------------------\u001b[0m",
      "\u001b[0;31mModuleNotFoundError\u001b[0m                       Traceback (most recent call last)",
      "\u001b[0;32m<ipython-input-5-d8eb52c1b997>\u001b[0m in \u001b[0;36m<module>\u001b[0;34m\u001b[0m\n\u001b[0;32m----> 1\u001b[0;31m \u001b[0;32mimport\u001b[0m \u001b[0mplotly\u001b[0m \u001b[0;32mas\u001b[0m \u001b[0mpy\u001b[0m\u001b[0;34m\u001b[0m\u001b[0;34m\u001b[0m\u001b[0m\n\u001b[0m\u001b[1;32m      2\u001b[0m \u001b[0;32mimport\u001b[0m \u001b[0mmatplotlib\u001b[0m \u001b[0;32mas\u001b[0m \u001b[0mplt\u001b[0m\u001b[0;34m\u001b[0m\u001b[0;34m\u001b[0m\u001b[0m\n\u001b[1;32m      3\u001b[0m \u001b[0;32mimport\u001b[0m \u001b[0mplotly\u001b[0m\u001b[0;34m.\u001b[0m\u001b[0mfigure_factory\u001b[0m \u001b[0;32mas\u001b[0m \u001b[0mff\u001b[0m\u001b[0;34m\u001b[0m\u001b[0;34m\u001b[0m\u001b[0m\n\u001b[1;32m      4\u001b[0m \u001b[0;32mimport\u001b[0m \u001b[0mplotly\u001b[0m\u001b[0;34m.\u001b[0m\u001b[0mgraph_objects\u001b[0m \u001b[0;32mas\u001b[0m \u001b[0mgo\u001b[0m\u001b[0;34m\u001b[0m\u001b[0;34m\u001b[0m\u001b[0m\n\u001b[1;32m      5\u001b[0m \u001b[0;32mimport\u001b[0m \u001b[0mplotly_express\u001b[0m \u001b[0;32mas\u001b[0m \u001b[0mpx\u001b[0m\u001b[0;34m\u001b[0m\u001b[0;34m\u001b[0m\u001b[0m\n",
      "\u001b[0;31mModuleNotFoundError\u001b[0m: No module named 'plotly'"
     ]
    }
   ],
   "source": [
    "import plotly as py\n",
    "import matplotlib as plt\n",
    "import plotly.figure_factory as ff\n",
    "import plotly.graph_objects as go\n",
    "import plotly_express as px\n",
    "import cufflinks as cf\n",
    "import urllib3\n",
    "\n",
    "urllib3.disable_warnings(urllib3.exceptions.InsecureRequestWarning)\n",
    "py.offline.init_notebook_mode() #this sets plotly to offline mode (aka no cloud comms)\n",
    "cf.go_offline(connected=True)"
   ]
  },
  {
   "cell_type": "code",
   "execution_count": null,
   "metadata": {
    "scrolled": true
   },
   "outputs": [],
   "source": [
    "#this cell will call the API and gather all of the direct tournament data in a JSON file\n",
    "tidjson = pd.DataFrame(columns = ['TournamentId', 'GameId', 'TournamentName', 'StartDate', 'EndDate'\n",
    "                                 , 'Location', 'Teamplay' , 'TotalUSDPrize'])\n",
    "offsetiter = 0\n",
    "\"\"\"\n",
    "Richie:\n",
    "Could use: for offset in range(0, 100, 30_000) if you want, up to you\n",
    "\n",
    "Put your API public key into environment variables.\n",
    "There's probably a file at ~/.bash_profile or something like that\n",
    "Hackers type the following to edit the bash profile:\n",
    "nano ~/.bash_profile\n",
    "Go to the end of the file and type\n",
    "export ESPORTS_API_KEY=\"<your key>\"\n",
    "Save and close.\n",
    "\n",
    "Close your terminal and reopen (or use source command for bonus points)\n",
    "Now you can access the environment variable like:\n",
    "os.environ[\"ESPORTS_API_KEY\"]\n",
    "\n",
    "Don't let people steal your api keys!\n",
    "\"\"\"\n",
    "\n",
    "for n in range (300):\n",
    "    tids = [] #Richie: don't need this since you're reassigning on next line\n",
    "    tids = requests.get(f\"http://api.esportsearnings.com/v0/LookupRecentTournaments?apikey=6fbda7c3f7cb1d84286157bdb8f3defc9433ac28eae09a95282cd2808dea2ec6&\\\n",
    "                        offset={offsetiter}\"\n",
    "                        ,verify = False).json()\n",
    "    tidjson = tidjson.append(tids, ignore_index=True, sort=False)\n",
    "    offsetiter+=100\n",
    "    time.sleep(1) #API Restriction - Calls must be 1-second apart"
   ]
  },
  {
   "cell_type": "code",
   "execution_count": null,
   "metadata": {},
   "outputs": [],
   "source": [
    "tidjson.drop_duplicates(subset = \"TournamentId\", inplace=True)\n",
    "tidjson = tidjson.astype(dtype = {\"TournamentId\" : \"int64\",\n",
    "                                  \"GameId\" : \"int64\", \n",
    "                                  \"TournamentName\" : \"str\",\n",
    "                                  \"TotalUSDPrize\" : \"float\"})\n",
    "tidjson"
   ]
  },
  {
   "cell_type": "code",
   "execution_count": null,
   "metadata": {},
   "outputs": [],
   "source": [
    "\"\"\"\n",
    "Richie:\n",
    "Use set() instead of list() to get unique elements in list.\n",
    "Once you do that, you won't even need a function.\n",
    "New version below.\n",
    "\n",
    "Another thought: this data is already in a dataframe so just use .unique()\n",
    "tidjson['GameId'].unique().tolist()\n",
    "\"\"\"\n",
    "\n",
    "from types import List\n",
    "\n",
    "def getUniqueGameIds(ids: List[int]) -> List[int]:\n",
    "    return set(listinput)\n",
    "\n",
    "def getUniqueGameIds(listinput):\n",
    "    unique_list = []\n",
    "    for x in listinput:\n",
    "        if x not in unique_list:\n",
    "            unique_list.append(x)\n",
    "    return unique_list"
   ]
  },
  {
   "cell_type": "code",
   "execution_count": null,
   "metadata": {},
   "outputs": [],
   "source": [
    "print(getUniqueGameIds(tidjson['GameId']))"
   ]
  },
  {
   "cell_type": "code",
   "execution_count": null,
   "metadata": {},
   "outputs": [],
   "source": [
    "#this cell will call the API and gather all of the game names by ID in a JSON file\n",
    "gamejson = pd.DataFrame(columns = ['GameName', 'TotalUSDPrize', 'TotalTournaments', 'TotalPlayers'])\n",
    "\n",
    "for gameid in getUniqueGameIds(tidjson['GameId']):\n",
    "    gids = [] #Richie: can remove\n",
    "    gids = requests.get(f\"http://api.esportsearnings.com/v0/LookupGameById?apikey=6fbda7c3f7cb1d84286157bdb8f3defc9433ac28eae09a95282cd2808dea2ec6&\\\n",
    "                        gameid={gameid}\"\n",
    "                        ,verify = False).json()\n",
    "    gamejson = gamejson.append(gids, ignore_index=True, sort=False)\n",
    "    time.sleep(1)"
   ]
  },
  {
   "cell_type": "code",
   "execution_count": null,
   "metadata": {
    "scrolled": true
   },
   "outputs": [],
   "source": [
    "gamejson.dropna(inplace=True)\n",
    "gamejson = gamejson.astype(dtype = {\"GameName\" : \"str\", \n",
    "                                    \"TotalUSDPrize\" : \"float\",\n",
    "                                    \"TotalTournaments\" : \"int64\",\n",
    "                                    \"TotalPlayers\" : \"int64\"})"
   ]
  },
  {
   "cell_type": "code",
   "execution_count": null,
   "metadata": {
    "scrolled": true
   },
   "outputs": [],
   "source": [
    "gamejson"
   ]
  },
  {
   "cell_type": "code",
   "execution_count": 6,
   "metadata": {},
   "outputs": [
    {
     "ename": "NameError",
     "evalue": "name 'gamejson' is not defined",
     "output_type": "error",
     "traceback": [
      "\u001b[0;31m---------------------------------------------------------------------------\u001b[0m",
      "\u001b[0;31mNameError\u001b[0m                                 Traceback (most recent call last)",
      "\u001b[0;32m<ipython-input-6-631d09b8b054>\u001b[0m in \u001b[0;36m<module>\u001b[0;34m\u001b[0m\n\u001b[0;32m----> 1\u001b[0;31m \u001b[0mgamejsonsorted\u001b[0m \u001b[0;34m=\u001b[0m \u001b[0mgamejson\u001b[0m\u001b[0;34m.\u001b[0m\u001b[0msort_values\u001b[0m\u001b[0;34m(\u001b[0m\u001b[0mby\u001b[0m\u001b[0;34m=\u001b[0m\u001b[0;34m[\u001b[0m\u001b[0;34m'TotalUSDPrize'\u001b[0m\u001b[0;34m]\u001b[0m\u001b[0;34m,\u001b[0m \u001b[0mascending\u001b[0m\u001b[0;34m=\u001b[0m\u001b[0;32mFalse\u001b[0m\u001b[0;34m,\u001b[0m \u001b[0maxis\u001b[0m\u001b[0;34m=\u001b[0m\u001b[0;36m0\u001b[0m\u001b[0;34m)\u001b[0m\u001b[0;34m.\u001b[0m\u001b[0mhead\u001b[0m\u001b[0;34m(\u001b[0m\u001b[0;36m10\u001b[0m\u001b[0;34m)\u001b[0m\u001b[0;34m\u001b[0m\u001b[0;34m\u001b[0m\u001b[0m\n\u001b[0m\u001b[1;32m      2\u001b[0m \u001b[0mgamejsonsorted\u001b[0m\u001b[0;34m\u001b[0m\u001b[0;34m\u001b[0m\u001b[0m\n",
      "\u001b[0;31mNameError\u001b[0m: name 'gamejson' is not defined"
     ]
    }
   ],
   "source": [
    "gamejsonsorted = gamejson.sort_values(by=['TotalUSDPrize'], ascending=False, axis=0).head(10)\n",
    "gamejsonsorted"
   ]
  },
  {
   "cell_type": "code",
   "execution_count": null,
   "metadata": {},
   "outputs": [],
   "source": [
    "#lets see the most lucrative games here:\n",
    "\n",
    "gamejsonsorted.iplot(kind='bar', x='GameName', y='TotalUSDPrize', title='Most Lucrative ESports Games',\n",
    "                    yTitle='Tournament Earnings in USD')"
   ]
  },
  {
   "cell_type": "code",
   "execution_count": null,
   "metadata": {},
   "outputs": [],
   "source": [
    "#what about the highest earning game per average prize pool? \n",
    "\n",
    "gamejson['AverageUSDPrize'] = gamejson['TotalUSDPrize']/gamejson['TotalTournaments']\n",
    "gameavgsorted = gamejson.sort_values(by='AverageUSDPrize', ascending=False).head(10)"
   ]
  },
  {
   "cell_type": "code",
   "execution_count": null,
   "metadata": {},
   "outputs": [],
   "source": [
    "gameavgsorted.iplot(kind='bar', x='GameName', y='AverageUSDPrize', color='blue', yTitle='Average Winnings per Event',\n",
    "                   xTitle='Game Name')"
   ]
  },
  {
   "cell_type": "code",
   "execution_count": null,
   "metadata": {},
   "outputs": [],
   "source": [
    "#here are the games with the biggest professional player bases\n",
    "gamejsonplayer = gamejson.sort_values(by='TotalPlayers', ascending=False).head(10)\n",
    "gamejsonplayer.iplot(kind='bar', x='GameName', y='TotalPlayers', title='Games with Biggest Professional Player Base',\n",
    "                    yTitle='Number of Players', xTitle='Game Name', color='red')"
   ]
  },
  {
   "cell_type": "code",
   "execution_count": null,
   "metadata": {},
   "outputs": [],
   "source": [
    "\"\"\"\n",
    "Richie:\n",
    "Replace whole for loop with tidjson['StartDate'].apply(funname)\n",
    "\n",
    "Functional style of programming is (usually) easier to read and allows for \n",
    "    SIMD (single instruction, multiple data) operations that can be (theoretically)\n",
    "    run on GPU or other parallelized hardware. It's also just 5x faster than looping by itself.\n",
    "    \n",
    "There might also be a pandas/numpy built-in for SIMD date manipulation, but I'll leave that googling to you\n",
    "\"\"\"\n",
    "\n",
    "i = 0\n",
    "tidjson['FDates'] = tidjson['StartDate']\n",
    "\n",
    "for date in tidjson.StartDate:\n",
    "    tidjson['FDates'][i] = dt.datetime.strftime(pd.to_datetime(tidjson['StartDate'].iloc[i]), '%Y-%m')\n",
    "    i+=1\n",
    "tidjson['FDates']"
   ]
  },
  {
   "cell_type": "code",
   "execution_count": null,
   "metadata": {
    "scrolled": false
   },
   "outputs": [],
   "source": [
    "timeseriesdf = tidjson[['FDates','TotalUSDPrize']].sort_values(by='FDates', ascending=True)\n",
    "grpdf = timeseriesdf.groupby('FDates').agg({'TotalUSDPrize':'sum'})\n",
    "grpdf = grpdf.reset_index()\n",
    "\n",
    "px.scatter(grpdf, x=\"FDates\", y=\"TotalUSDPrize\")\n",
    "#, animation_frame=\"FDates\", log_x=True"
   ]
  },
  {
   "cell_type": "code",
   "execution_count": null,
   "metadata": {},
   "outputs": [],
   "source": [
    "#cumulative histogram from plotly (py/go, not px)\n",
    "fig = go.Figure()\n",
    "\n",
    "fig.add_trace(go.Histogram(x=grpdf['FDates'], y=grpdf['TotalUSDPrize'], histfunc=\"sum\", cumulative_enabled=True))\n",
    "\n",
    "fig.add_annotation(\n",
    "    go.layout.Annotation(\n",
    "    x=grpdf['FDates'].max(),\n",
    "    y=grpdf['TotalUSDPrize'].sum().max(),\n",
    "    xref = \"x\",\n",
    "    yref = \"y\",\n",
    "    text='ESports is rapidly approaching <br>>$1B USD paid out in winnings alone',\n",
    "    align=\"left\",\n",
    "    font = dict(\n",
    "            size=13,\n",
    "            color='red')\n",
    "    )\n",
    ")\n",
    "\n",
    "fig.update_layout(\n",
    "    title_text = 'Cumulative Total of ESports Prize Money by Year',\n",
    "    xaxis_title_text = \"Year of Tournament\",\n",
    "    yaxis_title_text = \"Total Prize Money in USD\"\n",
    ")\n",
    "\n",
    "fig.show()"
   ]
  },
  {
   "cell_type": "code",
   "execution_count": null,
   "metadata": {},
   "outputs": [],
   "source": [
    "#this cell should call API for highest earning players (is one of the API modes)\n",
    "#this grabs top 100 earners\n",
    "bigmoney = pd.DataFrame(columns = ['PlayerId', 'NameFirst', 'NameLast' , 'CurrentHandle', 'CountryCode', 'TotalUSDPrize'])\n",
    "\n",
    "bigmoneydata = requests.get(\"https://api.esportsearnings.com/v0/LookupHighestEarningPlayers?\\\n",
    "    apikey=6fbda7c3f7cb1d84286157bdb8f3defc9433ac28eae09a95282cd2808dea2ec6\", verify=False).json()\n",
    "time.sleep(1)\n",
    "\n",
    "bigmoney = bigmoney.append(bigmoneydata, ignore_index=True, sort=True)"
   ]
  },
  {
   "cell_type": "code",
   "execution_count": null,
   "metadata": {},
   "outputs": [],
   "source": [
    "bigmoney.head(15)"
   ]
  },
  {
   "cell_type": "code",
   "execution_count": null,
   "metadata": {},
   "outputs": [],
   "source": [
    "bigmoney.head(50).iplot(kind='bar', x='CurrentHandle', y='TotalUSDPrize', yTitle='Total Career Winnings', \n",
    "                       xTitle='Competitor Handle')"
   ]
  },
  {
   "cell_type": "code",
   "execution_count": null,
   "metadata": {},
   "outputs": [],
   "source": [
    "bigmoney.head(3).iplot(kind='barh', color='green', x='CurrentHandle', y='TotalUSDPrize', title='The Highest Tournament Winning Earners in ESports',\n",
    "                      xTitle='Total Career Winnings', yTitle='Competitor Handle')\n"
   ]
  },
  {
   "cell_type": "code",
   "execution_count": null,
   "metadata": {},
   "outputs": [],
   "source": [
    "from sklearn.feature_extraction.text import CountVectorizer\n",
    "import numpy as np"
   ]
  },
  {
   "cell_type": "code",
   "execution_count": null,
   "metadata": {},
   "outputs": [],
   "source": [
    "#throwing process into func in case we want to use different columns/data\n",
    "\"\"\"\n",
    "Richie: this works for lab code, but I'd recommend wrapping this in\n",
    "    a class (or just use a param) to achieve the above goal.\n",
    "\"\"\"\n",
    "def plot_20_most_common_words(count_data, count_vectorizer):\n",
    "    import matplotlib.pyplot as plt\n",
    "    words = count_vectorizer.get_feature_names()\n",
    "    total_counts = np.zeros(len(words))\n",
    "    for t in count_data:\n",
    "        total_counts+=t.toarray()[0]\n",
    "    \n",
    "    count_dict = (zip(words, total_counts))\n",
    "    count_dict = sorted(count_dict, key=lambda x:x[1], reverse=True)[0:20]\n",
    "    words = [w[0] for w in count_dict]\n",
    "    counts = [w[1] for w in count_dict]\n",
    "    x_pos = np.arange(len(words)) \n",
    "\n",
    "    plt.bar(x_pos, counts,align='center')\n",
    "    plt.xticks(x_pos, words, rotation=90) \n",
    "    plt.xlabel('Word')\n",
    "    plt.ylabel('Count')\n",
    "    plt.title('20 Most Common Words in Tournament Names')\n",
    "    plt.show()\n"
   ]
  },
  {
   "cell_type": "code",
   "execution_count": null,
   "metadata": {},
   "outputs": [],
   "source": [
    "count_vectorizer = CountVectorizer(stop_words='english')\n",
    "\n",
    "count_data = count_vectorizer.fit_transform(tidjson['TournamentName'])\n",
    "\n",
    "plot_20_most_common_words(count_data, count_vectorizer)"
   ]
  },
  {
   "cell_type": "code",
   "execution_count": null,
   "metadata": {},
   "outputs": [],
   "source": [
    "import warnings\n",
    "warnings.simplefilter(\"ignore\", DeprecationWarning)\n",
    "from sklearn.decomposition import LatentDirichletAllocation as LDA\n",
    " \n",
    "def print_names(model, count_vectorizer, n_top_words):\n",
    "    words = count_vectorizer.get_feature_names()\n",
    "    for topic_idx, topic in enumerate(model.components_):\n",
    "        print(\"\\nImaginary Tournament Name #%d:\" % topic_idx)\n",
    "        print(\" \".join([words[i]\n",
    "                        for i in topic.argsort()[:-n_top_words - 1:-1]]))\n",
    "        \n",
    "number_topics = 10\n",
    "number_words = 5\n",
    "\n",
    "#Create and fit the LDA model\n",
    "lda = LDA(n_components=number_topics)\n",
    "lda.fit(count_data)\n",
    "\n",
    "# Print the topics found by the LDA model\n",
    "print(\"Generated Tournament Names Made by LDA:\")\n",
    "print_names(lda, count_vectorizer, number_words)"
   ]
  },
  {
   "cell_type": "markdown",
   "metadata": {},
   "source": [
    "### Wow, none of these make any sense"
   ]
  }
 ],
 "metadata": {
  "kernelspec": {
   "display_name": "Python 3",
   "language": "python",
   "name": "python3"
  },
  "language_info": {
   "codemirror_mode": {
    "name": "ipython",
    "version": 3
   },
   "file_extension": ".py",
   "mimetype": "text/x-python",
   "name": "python",
   "nbconvert_exporter": "python",
   "pygments_lexer": "ipython3",
   "version": "3.6.8"
  },
  "widgets": {
   "application/vnd.jupyter.widget-state+json": {
    "state": {},
    "version_major": 2,
    "version_minor": 0
   }
  }
 },
 "nbformat": 4,
 "nbformat_minor": 2
}
